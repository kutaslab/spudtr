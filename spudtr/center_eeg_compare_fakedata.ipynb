{
 "cells": [
  {
   "cell_type": "code",
   "execution_count": 1,
   "metadata": {},
   "outputs": [],
   "source": [
    "from patsy import balanced, demo_data\n",
    "import numpy as np\n",
    "import pandas as pd\n",
    "\n",
    "# fake a pd.DataFrame\n",
    "def get_df(n_a = 2, n_b = 3, n_epochs = 4, n_streams = 3):\n",
    "\n",
    "    n_times = n_a * n_b\n",
    "    n_obs = n_times * n_epochs\n",
    "\n",
    "    epoch_id = np.repeat(range(n_epochs), n_times)\n",
    "    time = np.tile(range(n_times), n_epochs)\n",
    "    factors = np.repeat(pd.DataFrame(balanced(a=n_a, b=n_b)).to_numpy(), n_epochs, axis=0)\n",
    "    data = np.arange(n_obs * n_streams).reshape(n_streams, n_obs).T\n",
    "                                            \n",
    "    df = pd.concat(\n",
    "        [pd.DataFrame(arry) for arry in [epoch_id, time, factors, data]], \n",
    "        axis=1,\n",
    "    )\n",
    "    df.columns = [\"epoch_id\", \"time\", \"a\", \"b\", \"x\", \"y\", \"z\"]\n",
    "    return df\n"
   ]
  },
  {
   "cell_type": "code",
   "execution_count": 2,
   "metadata": {
    "scrolled": false
   },
   "outputs": [],
   "source": [
    "# save a copy for demonstration\n",
    "df = get_df()\n",
    "\n",
    "# center two columns in place (for demonstration start and stop are epoch row indexes not times)\n",
    "strms = [\"x\", \"z\"]\n"
   ]
  },
  {
   "cell_type": "code",
   "execution_count": 3,
   "metadata": {},
   "outputs": [],
   "source": [
    "from spudtr import epf, DATA_DIR, P3_F, P5_F, WR_F\n",
    "import spudtr.fake_epochs_data as fake_data\n",
    "\n",
    "from spudtr.epf import EPOCH_ID, TIME\n",
    "\n",
    "import numpy as np\n",
    "import pandas as pd"
   ]
  },
  {
   "cell_type": "code",
   "execution_count": 4,
   "metadata": {},
   "outputs": [],
   "source": [
    "# save a copy for demonstration\n",
    "df = fake_data._get_df()\n",
    "strms = [\"x\", \"z\"]\n",
    "epf.center_eeg(df, strms, start=0, stop=2)\n",
    "x = df[strms].values"
   ]
  },
  {
   "cell_type": "code",
   "execution_count": 5,
   "metadata": {},
   "outputs": [],
   "source": [
    "\n",
    "from spudtr import epf1, DATA_DIR, P3_F, P5_F, WR_F\n",
    "import spudtr.fake_epochs_data as fake_data\n",
    "\n",
    "from spudtr.epf1 import EPOCH_ID, TIME\n",
    "\n",
    "import numpy as np\n",
    "import pandas as pd"
   ]
  },
  {
   "cell_type": "code",
   "execution_count": 6,
   "metadata": {},
   "outputs": [
    {
     "name": "stdout",
     "output_type": "stream",
     "text": [
      "center_eeg is correct\n"
     ]
    }
   ],
   "source": [
    "df = fake_data._get_df()\n",
    "df1=epf1.center_eeg(df, strms, start=0, stop=2, time=\"time\")\n",
    "y = df1[strms].values"
   ]
  },
  {
   "cell_type": "code",
   "execution_count": 7,
   "metadata": {},
   "outputs": [
    {
     "data": {
      "text/plain": [
       "True"
      ]
     },
     "execution_count": 7,
     "metadata": {},
     "output_type": "execute_result"
    }
   ],
   "source": [
    "np.allclose(x, y, atol=1e-02)"
   ]
  }
 ],
 "metadata": {
  "kernelspec": {
   "display_name": "Python 3",
   "language": "python",
   "name": "python3"
  },
  "language_info": {
   "codemirror_mode": {
    "name": "ipython",
    "version": 3
   },
   "file_extension": ".py",
   "mimetype": "text/x-python",
   "name": "python",
   "nbconvert_exporter": "python",
   "pygments_lexer": "ipython3",
   "version": "3.6.10"
  }
 },
 "nbformat": 4,
 "nbformat_minor": 4
}
