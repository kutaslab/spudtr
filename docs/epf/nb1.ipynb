{
 "cells": [
  {
   "cell_type": "markdown",
   "metadata": {},
   "source": [
    "# `spudtr` data frame format"
   ]
  },
  {
   "cell_type": "code",
   "execution_count": null,
   "metadata": {},
   "outputs": [],
   "source": [
    "import pandas as pd\n",
    "from matplotlib import pyplot as plt\n",
    "import spudtr.fake_epochs_data as fake_data\n",
    "import spudtr.epf as epf"
   ]
  },
  {
   "cell_type": "code",
   "execution_count": null,
   "metadata": {},
   "outputs": [],
   "source": [
    "# make up 4 time ser\n",
    "n_epochs = 1\n",
    "epochs_df, channels = fake_data._generate(\n",
    "    n_epochs=n_epochs,\n",
    "    n_samples=32,\n",
    "    n_categories=2,\n",
    "    n_channels=4,\n",
    "    time=\"Time\",\n",
    "    epoch_id=\"Epoch_idx\",\n",
    "    seed=10,\n",
    ")"
   ]
  },
  {
   "cell_type": "code",
   "execution_count": null,
   "metadata": {
    "scrolled": false
   },
   "outputs": [],
   "source": [
    "for epoch_i, data in epochs_df.groupby('Epoch_idx'):\n",
    "    f = data.plot(\n",
    "        x='Time',\n",
    "        y=['channel0', 'channel1'], \n",
    "        title=f'Epoch_idx: {epoch_i}'\n",
    "    )"
   ]
  },
  {
   "cell_type": "code",
   "execution_count": null,
   "metadata": {
    "scrolled": false
   },
   "outputs": [],
   "source": [
    "with pd.option_context('display.max_rows', None):\n",
    "    display(epochs_df)"
   ]
  },
  {
   "cell_type": "code",
   "execution_count": null,
   "metadata": {},
   "outputs": [],
   "source": [
    "epf._epochs_QC(epochs_df, ['channel0'])"
   ]
  }
 ],
 "metadata": {
  "kernelspec": {
   "display_name": "Python 3",
   "language": "python",
   "name": "python3"
  },
  "language_info": {
   "codemirror_mode": {
    "name": "ipython",
    "version": 3
   },
   "file_extension": ".py",
   "mimetype": "text/x-python",
   "name": "python",
   "nbconvert_exporter": "python",
   "pygments_lexer": "ipython3",
   "version": "3.6.10"
  }
 },
 "nbformat": 4,
 "nbformat_minor": 2
}
