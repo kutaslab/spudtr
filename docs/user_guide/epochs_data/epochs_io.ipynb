{
 "cells": [
  {
   "cell_type": "markdown",
   "metadata": {},
   "source": [
    "# Read and write epochs as HDF5, feather, or csv\n",
    "\n",
    "`spudtr` runs on `pandas.DataFrame` so use `pandas` IO tools to read and write them.\n",
    "\n",
    "https://pandas.pydata.org/pandas-docs/stable/user_guide/io.html\n",
    "\n",
    "\n",
    "The `HDF5` format is fairly portable across Python, R, and MATLAB\n",
    "\n",
    "The `feather` format is also a good choice for Python and R"
   ]
  },
  {
   "cell_type": "markdown",
   "metadata": {},
   "source": [
    "# Example: read HDF5 EEG data"
   ]
  },
  {
   "cell_type": "code",
   "execution_count": 8,
   "metadata": {},
   "outputs": [],
   "source": [
    "import pandas as pd\n",
    "from spudtr import epf\n",
    "from spudtr import DATA_DIR  # replace this with the path to your own data directory\n",
    "\n",
    "epochs_df = pd.read_hdf(DATA_DIR / \"sub000p3.epochs.h5\", key=\"p3\")"
   ]
  },
  {
   "cell_type": "markdown",
   "metadata": {},
   "source": [
    "# Verify the format"
   ]
  },
  {
   "cell_type": "code",
   "execution_count": 9,
   "metadata": {},
   "outputs": [],
   "source": [
    "eeg_channels = ['MiPf', 'MiCe', 'MiPa', 'MiOc']\n",
    "epf.check_epochs(epochs_df, eeg_channels, epoch_id=\"epoch_id\", time=\"time_ms\")"
   ]
  }
 ],
 "metadata": {
  "kernelspec": {
   "display_name": "Python 3",
   "language": "python",
   "name": "python3"
  },
  "language_info": {
   "codemirror_mode": {
    "name": "ipython",
    "version": 3
   },
   "file_extension": ".py",
   "mimetype": "text/x-python",
   "name": "python",
   "nbconvert_exporter": "python",
   "pygments_lexer": "ipython3",
   "version": "3.6.10"
  }
 },
 "nbformat": 4,
 "nbformat_minor": 4
}
