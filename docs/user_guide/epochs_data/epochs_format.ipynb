{
 "cells": [
  {
   "cell_type": "markdown",
   "metadata": {},
   "source": [
    "# The `spudtr` epochs data format\n",
    "\n",
    "There are three key elements:\n",
    "\n",
    " 1. `epoch_id` an index-like column, where each value designates a unique epoch\n",
    " 2. `time` an index-like column of sequential timestamps, the same in each epoch\n",
    " 3.  the rest of the data columns\n",
    " \n",
    " "
   ]
  },
  {
   "cell_type": "code",
   "execution_count": 1,
   "metadata": {},
   "outputs": [],
   "source": [
    "import pandas as pd\n",
    "from matplotlib import pyplot as plt\n",
    "import spudtr.fake_epochs_data as fake_data\n",
    "import spudtr.epf as epf"
   ]
  },
  {
   "cell_type": "markdown",
   "metadata": {},
   "source": [
    "# Example: simulated categorical and continuous data"
   ]
  },
  {
   "cell_type": "code",
   "execution_count": 2,
   "metadata": {},
   "outputs": [
    {
     "data": {
      "text/html": [
       "<div>\n",
       "<style scoped>\n",
       "    .dataframe tbody tr th:only-of-type {\n",
       "        vertical-align: middle;\n",
       "    }\n",
       "\n",
       "    .dataframe tbody tr th {\n",
       "        vertical-align: top;\n",
       "    }\n",
       "\n",
       "    .dataframe thead th {\n",
       "        text-align: right;\n",
       "    }\n",
       "</style>\n",
       "<table border=\"1\" class=\"dataframe\">\n",
       "  <thead>\n",
       "    <tr style=\"text-align: right;\">\n",
       "      <th></th>\n",
       "      <th>epoch_id</th>\n",
       "      <th>days</th>\n",
       "      <th>categorical</th>\n",
       "      <th>continuous</th>\n",
       "      <th>channel0</th>\n",
       "      <th>channel1</th>\n",
       "      <th>channel2</th>\n",
       "      <th>channel3</th>\n",
       "    </tr>\n",
       "  </thead>\n",
       "  <tbody>\n",
       "    <tr>\n",
       "      <th>0</th>\n",
       "      <td>0</td>\n",
       "      <td>0</td>\n",
       "      <td>cat0</td>\n",
       "      <td>0.771321</td>\n",
       "      <td>-13.170787</td>\n",
       "      <td>-30.197057</td>\n",
       "      <td>19.609869</td>\n",
       "      <td>43.177612</td>\n",
       "    </tr>\n",
       "    <tr>\n",
       "      <th>1</th>\n",
       "      <td>0</td>\n",
       "      <td>1</td>\n",
       "      <td>cat0</td>\n",
       "      <td>0.020752</td>\n",
       "      <td>4.233125</td>\n",
       "      <td>-7.726009</td>\n",
       "      <td>-65.298259</td>\n",
       "      <td>41.464399</td>\n",
       "    </tr>\n",
       "    <tr>\n",
       "      <th>2</th>\n",
       "      <td>0</td>\n",
       "      <td>2</td>\n",
       "      <td>cat0</td>\n",
       "      <td>0.633648</td>\n",
       "      <td>8.191480</td>\n",
       "      <td>21.915223</td>\n",
       "      <td>18.568468</td>\n",
       "      <td>27.639613</td>\n",
       "    </tr>\n",
       "    <tr>\n",
       "      <th>3</th>\n",
       "      <td>0</td>\n",
       "      <td>3</td>\n",
       "      <td>cat0</td>\n",
       "      <td>0.748804</td>\n",
       "      <td>-48.557122</td>\n",
       "      <td>-50.952045</td>\n",
       "      <td>14.317029</td>\n",
       "      <td>-17.186617</td>\n",
       "    </tr>\n",
       "    <tr>\n",
       "      <th>4</th>\n",
       "      <td>0</td>\n",
       "      <td>4</td>\n",
       "      <td>cat0</td>\n",
       "      <td>0.498507</td>\n",
       "      <td>-17.193401</td>\n",
       "      <td>50.222266</td>\n",
       "      <td>0.782896</td>\n",
       "      <td>38.251473</td>\n",
       "    </tr>\n",
       "    <tr>\n",
       "      <th>...</th>\n",
       "      <td>...</td>\n",
       "      <td>...</td>\n",
       "      <td>...</td>\n",
       "      <td>...</td>\n",
       "      <td>...</td>\n",
       "      <td>...</td>\n",
       "      <td>...</td>\n",
       "      <td>...</td>\n",
       "    </tr>\n",
       "    <tr>\n",
       "      <th>123</th>\n",
       "      <td>3</td>\n",
       "      <td>27</td>\n",
       "      <td>cat1</td>\n",
       "      <td>0.744603</td>\n",
       "      <td>33.167254</td>\n",
       "      <td>-7.658414</td>\n",
       "      <td>14.630878</td>\n",
       "      <td>14.329468</td>\n",
       "    </tr>\n",
       "    <tr>\n",
       "      <th>124</th>\n",
       "      <td>3</td>\n",
       "      <td>28</td>\n",
       "      <td>cat1</td>\n",
       "      <td>0.469785</td>\n",
       "      <td>-60.531560</td>\n",
       "      <td>0.774228</td>\n",
       "      <td>1.689442</td>\n",
       "      <td>0.882024</td>\n",
       "    </tr>\n",
       "    <tr>\n",
       "      <th>125</th>\n",
       "      <td>3</td>\n",
       "      <td>29</td>\n",
       "      <td>cat1</td>\n",
       "      <td>0.598256</td>\n",
       "      <td>16.216221</td>\n",
       "      <td>66.028993</td>\n",
       "      <td>16.373534</td>\n",
       "      <td>4.854384</td>\n",
       "    </tr>\n",
       "    <tr>\n",
       "      <th>126</th>\n",
       "      <td>3</td>\n",
       "      <td>30</td>\n",
       "      <td>cat1</td>\n",
       "      <td>0.147620</td>\n",
       "      <td>-43.268966</td>\n",
       "      <td>26.531028</td>\n",
       "      <td>-20.493672</td>\n",
       "      <td>-12.327708</td>\n",
       "    </tr>\n",
       "    <tr>\n",
       "      <th>127</th>\n",
       "      <td>3</td>\n",
       "      <td>31</td>\n",
       "      <td>cat1</td>\n",
       "      <td>0.184035</td>\n",
       "      <td>-48.265511</td>\n",
       "      <td>-41.604676</td>\n",
       "      <td>-19.770519</td>\n",
       "      <td>27.925069</td>\n",
       "    </tr>\n",
       "  </tbody>\n",
       "</table>\n",
       "<p>128 rows × 8 columns</p>\n",
       "</div>"
      ],
      "text/plain": [
       "     epoch_id  days categorical  continuous   channel0   channel1   channel2  \\\n",
       "0           0     0        cat0    0.771321 -13.170787 -30.197057  19.609869   \n",
       "1           0     1        cat0    0.020752   4.233125  -7.726009 -65.298259   \n",
       "2           0     2        cat0    0.633648   8.191480  21.915223  18.568468   \n",
       "3           0     3        cat0    0.748804 -48.557122 -50.952045  14.317029   \n",
       "4           0     4        cat0    0.498507 -17.193401  50.222266   0.782896   \n",
       "..        ...   ...         ...         ...        ...        ...        ...   \n",
       "123         3    27        cat1    0.744603  33.167254  -7.658414  14.630878   \n",
       "124         3    28        cat1    0.469785 -60.531560   0.774228   1.689442   \n",
       "125         3    29        cat1    0.598256  16.216221  66.028993  16.373534   \n",
       "126         3    30        cat1    0.147620 -43.268966  26.531028 -20.493672   \n",
       "127         3    31        cat1    0.184035 -48.265511 -41.604676 -19.770519   \n",
       "\n",
       "      channel3  \n",
       "0    43.177612  \n",
       "1    41.464399  \n",
       "2    27.639613  \n",
       "3   -17.186617  \n",
       "4    38.251473  \n",
       "..         ...  \n",
       "123  14.329468  \n",
       "124   0.882024  \n",
       "125   4.854384  \n",
       "126 -12.327708  \n",
       "127  27.925069  \n",
       "\n",
       "[128 rows x 8 columns]"
      ]
     },
     "metadata": {},
     "output_type": "display_data"
    }
   ],
   "source": [
    "n_epochs_per_category = 2\n",
    "epochs_df, channels = fake_data._generate(\n",
    "    n_epochs=n_epochs_per_category,\n",
    "    n_samples=32,\n",
    "    n_categories=2,\n",
    "    n_channels=4,\n",
    "    time=\"days\",\n",
    "    epoch_id=\"epoch_id\",\n",
    "    seed=10,\n",
    ")\n",
    "display(epochs_df)"
   ]
  },
  {
   "cell_type": "markdown",
   "metadata": {},
   "source": [
    "# Verify the format\n",
    "\n",
    "When things go well the check quietly succeeds.\n",
    "\n",
    "When they don't the reason appears at the bottom of the messages."
   ]
  },
  {
   "cell_type": "markdown",
   "metadata": {},
   "source": [
    "Example: This check succeeds."
   ]
  },
  {
   "cell_type": "code",
   "execution_count": 3,
   "metadata": {},
   "outputs": [],
   "source": [
    "epf.check_epochs(epochs_df, ['channel0', 'channel1'], epoch_id=\"epoch_id\", time=\"days\")"
   ]
  },
  {
   "cell_type": "markdown",
   "metadata": {},
   "source": [
    "Example: this checks for a data column that doesn't exist."
   ]
  },
  {
   "cell_type": "code",
   "execution_count": 4,
   "metadata": {
    "tags": [
     "raises-exception"
    ]
   },
   "outputs": [
    {
     "ename": "ValueError",
     "evalue": "data_streams should all be present in the epochs dataframe, the following are missing: ['bogus_channel0']",
     "output_type": "error",
     "traceback": [
      "\u001b[0;31m---------------------------------------------------------------------------\u001b[0m",
      "\u001b[0;31mValueError\u001b[0m                                Traceback (most recent call last)",
      "\u001b[0;32m<ipython-input-4-71737c19ea96>\u001b[0m in \u001b[0;36m<module>\u001b[0;34m\u001b[0m\n\u001b[0;32m----> 1\u001b[0;31m \u001b[0mepf\u001b[0m\u001b[0;34m.\u001b[0m\u001b[0mcheck_epochs\u001b[0m\u001b[0;34m(\u001b[0m\u001b[0mepochs_df\u001b[0m\u001b[0;34m,\u001b[0m \u001b[0;34m[\u001b[0m\u001b[0;34m'bogus_channel0'\u001b[0m\u001b[0;34m,\u001b[0m \u001b[0;34m'channel1'\u001b[0m\u001b[0;34m]\u001b[0m\u001b[0;34m,\u001b[0m \u001b[0mepoch_id\u001b[0m\u001b[0;34m=\u001b[0m\u001b[0;34m\"epoch_id\"\u001b[0m\u001b[0;34m,\u001b[0m \u001b[0mtime\u001b[0m\u001b[0;34m=\u001b[0m\u001b[0;34m\"days\"\u001b[0m\u001b[0;34m)\u001b[0m\u001b[0;34m\u001b[0m\u001b[0;34m\u001b[0m\u001b[0m\n\u001b[0m",
      "\u001b[0;32m/mnt/cube/home/turbach/TPU_Projects/spudtr/spudtr/epf.py\u001b[0m in \u001b[0;36mcheck_epochs\u001b[0;34m(epochs_df, data_streams, epoch_id, time)\u001b[0m\n\u001b[1;32m     80\u001b[0m     \"\"\"\n\u001b[1;32m     81\u001b[0m \u001b[0;34m\u001b[0m\u001b[0m\n\u001b[0;32m---> 82\u001b[0;31m     \u001b[0m_\u001b[0m \u001b[0;34m=\u001b[0m \u001b[0m_epochs_QC\u001b[0m\u001b[0;34m(\u001b[0m\u001b[0mepochs_df\u001b[0m\u001b[0;34m,\u001b[0m \u001b[0mdata_streams\u001b[0m\u001b[0;34m,\u001b[0m \u001b[0mepoch_id\u001b[0m\u001b[0;34m=\u001b[0m\u001b[0mepoch_id\u001b[0m\u001b[0;34m,\u001b[0m \u001b[0mtime\u001b[0m\u001b[0;34m=\u001b[0m\u001b[0mtime\u001b[0m\u001b[0;34m)\u001b[0m\u001b[0;34m\u001b[0m\u001b[0;34m\u001b[0m\u001b[0m\n\u001b[0m\u001b[1;32m     83\u001b[0m \u001b[0;34m\u001b[0m\u001b[0m\n\u001b[1;32m     84\u001b[0m \u001b[0;34m\u001b[0m\u001b[0m\n",
      "\u001b[0;32m/mnt/cube/home/turbach/TPU_Projects/spudtr/spudtr/epf.py\u001b[0m in \u001b[0;36m_epochs_QC\u001b[0;34m(epochs_df, data_streams, epoch_id, time)\u001b[0m\n\u001b[1;32m    100\u001b[0m     \u001b[0;32mif\u001b[0m \u001b[0mmissing_channels\u001b[0m\u001b[0;34m:\u001b[0m\u001b[0;34m\u001b[0m\u001b[0;34m\u001b[0m\u001b[0m\n\u001b[1;32m    101\u001b[0m         raise ValueError(\n\u001b[0;32m--> 102\u001b[0;31m             \u001b[0;34m\"data_streams should all be present in the epochs dataframe, \"\u001b[0m\u001b[0;34m\u001b[0m\u001b[0;34m\u001b[0m\u001b[0m\n\u001b[0m\u001b[1;32m    103\u001b[0m             \u001b[0;34mf\"the following are missing: {list(missing_channels)}\"\u001b[0m\u001b[0;34m\u001b[0m\u001b[0;34m\u001b[0m\u001b[0m\n\u001b[1;32m    104\u001b[0m         )\n",
      "\u001b[0;31mValueError\u001b[0m: data_streams should all be present in the epochs dataframe, the following are missing: ['bogus_channel0']"
     ]
    }
   ],
   "source": [
    "epf.check_epochs(epochs_df, ['bogus_channel0', 'channel1'], epoch_id=\"epoch_id\", time=\"days\")"
   ]
  },
  {
   "cell_type": "markdown",
   "metadata": {},
   "source": [
    "Example: this checks for a time column that doesn't exist."
   ]
  },
  {
   "cell_type": "code",
   "execution_count": 5,
   "metadata": {
    "tags": [
     "raises-exception"
    ]
   },
   "outputs": [
    {
     "ename": "ValueError",
     "evalue": "time column not found: hours",
     "output_type": "error",
     "traceback": [
      "\u001b[0;31m---------------------------------------------------------------------------\u001b[0m",
      "\u001b[0;31mValueError\u001b[0m                                Traceback (most recent call last)",
      "\u001b[0;32m<ipython-input-5-82d262a85ff6>\u001b[0m in \u001b[0;36m<module>\u001b[0;34m\u001b[0m\n\u001b[0;32m----> 1\u001b[0;31m \u001b[0mepf\u001b[0m\u001b[0;34m.\u001b[0m\u001b[0mcheck_epochs\u001b[0m\u001b[0;34m(\u001b[0m\u001b[0mepochs_df\u001b[0m\u001b[0;34m,\u001b[0m \u001b[0;34m[\u001b[0m\u001b[0;34m'channel0'\u001b[0m\u001b[0;34m,\u001b[0m \u001b[0;34m'channel1'\u001b[0m\u001b[0;34m]\u001b[0m\u001b[0;34m,\u001b[0m \u001b[0mepoch_id\u001b[0m\u001b[0;34m=\u001b[0m\u001b[0;34m\"epoch_id\"\u001b[0m\u001b[0;34m,\u001b[0m \u001b[0mtime\u001b[0m\u001b[0;34m=\u001b[0m\u001b[0;34m\"hours\"\u001b[0m\u001b[0;34m)\u001b[0m\u001b[0;34m\u001b[0m\u001b[0;34m\u001b[0m\u001b[0m\n\u001b[0m",
      "\u001b[0;32m/mnt/cube/home/turbach/TPU_Projects/spudtr/spudtr/epf.py\u001b[0m in \u001b[0;36mcheck_epochs\u001b[0;34m(epochs_df, data_streams, epoch_id, time)\u001b[0m\n\u001b[1;32m     80\u001b[0m     \"\"\"\n\u001b[1;32m     81\u001b[0m \u001b[0;34m\u001b[0m\u001b[0m\n\u001b[0;32m---> 82\u001b[0;31m     \u001b[0m_\u001b[0m \u001b[0;34m=\u001b[0m \u001b[0m_epochs_QC\u001b[0m\u001b[0;34m(\u001b[0m\u001b[0mepochs_df\u001b[0m\u001b[0;34m,\u001b[0m \u001b[0mdata_streams\u001b[0m\u001b[0;34m,\u001b[0m \u001b[0mepoch_id\u001b[0m\u001b[0;34m=\u001b[0m\u001b[0mepoch_id\u001b[0m\u001b[0;34m,\u001b[0m \u001b[0mtime\u001b[0m\u001b[0;34m=\u001b[0m\u001b[0mtime\u001b[0m\u001b[0;34m)\u001b[0m\u001b[0;34m\u001b[0m\u001b[0;34m\u001b[0m\u001b[0m\n\u001b[0m\u001b[1;32m     83\u001b[0m \u001b[0;34m\u001b[0m\u001b[0m\n\u001b[1;32m     84\u001b[0m \u001b[0;34m\u001b[0m\u001b[0m\n",
      "\u001b[0;32m/mnt/cube/home/turbach/TPU_Projects/spudtr/spudtr/epf.py\u001b[0m in \u001b[0;36m_epochs_QC\u001b[0;34m(epochs_df, data_streams, epoch_id, time)\u001b[0m\n\u001b[1;32m    105\u001b[0m \u001b[0;34m\u001b[0m\u001b[0m\n\u001b[1;32m    106\u001b[0m     \u001b[0;31m# epoch_id and time must be the columns in the epochs_df\u001b[0m\u001b[0;34m\u001b[0m\u001b[0;34m\u001b[0m\u001b[0;34m\u001b[0m\u001b[0m\n\u001b[0;32m--> 107\u001b[0;31m     \u001b[0m_validate_epochs_df\u001b[0m\u001b[0;34m(\u001b[0m\u001b[0mepochs_df\u001b[0m\u001b[0;34m,\u001b[0m \u001b[0mepoch_id\u001b[0m\u001b[0;34m=\u001b[0m\u001b[0mepoch_id\u001b[0m\u001b[0;34m,\u001b[0m \u001b[0mtime\u001b[0m\u001b[0;34m=\u001b[0m\u001b[0mtime\u001b[0m\u001b[0;34m)\u001b[0m\u001b[0;34m\u001b[0m\u001b[0;34m\u001b[0m\u001b[0m\n\u001b[0m\u001b[1;32m    108\u001b[0m \u001b[0;34m\u001b[0m\u001b[0m\n\u001b[1;32m    109\u001b[0m     \u001b[0;31m# check no duplicate column names in index and regular columns\u001b[0m\u001b[0;34m\u001b[0m\u001b[0;34m\u001b[0m\u001b[0;34m\u001b[0m\u001b[0m\n",
      "\u001b[0;32m/mnt/cube/home/turbach/TPU_Projects/spudtr/spudtr/epf.py\u001b[0m in \u001b[0;36m_validate_epochs_df\u001b[0;34m(epochs_df, epoch_id, time)\u001b[0m\n\u001b[1;32m     27\u001b[0m     \u001b[0;32mfor\u001b[0m \u001b[0mkey\u001b[0m\u001b[0;34m,\u001b[0m \u001b[0mval\u001b[0m \u001b[0;32min\u001b[0m \u001b[0;34m{\u001b[0m\u001b[0;34m\"epoch_id\"\u001b[0m\u001b[0;34m:\u001b[0m \u001b[0mepoch_id\u001b[0m\u001b[0;34m,\u001b[0m \u001b[0;34m\"time\"\u001b[0m\u001b[0;34m:\u001b[0m \u001b[0mtime\u001b[0m\u001b[0;34m}\u001b[0m\u001b[0;34m.\u001b[0m\u001b[0mitems\u001b[0m\u001b[0;34m(\u001b[0m\u001b[0;34m)\u001b[0m\u001b[0;34m:\u001b[0m\u001b[0;34m\u001b[0m\u001b[0;34m\u001b[0m\u001b[0m\n\u001b[1;32m     28\u001b[0m         \u001b[0;32mif\u001b[0m \u001b[0mval\u001b[0m \u001b[0;32mnot\u001b[0m \u001b[0;32min\u001b[0m \u001b[0mepochs_df\u001b[0m\u001b[0;34m.\u001b[0m\u001b[0mcolumns\u001b[0m\u001b[0;34m:\u001b[0m\u001b[0;34m\u001b[0m\u001b[0;34m\u001b[0m\u001b[0m\n\u001b[0;32m---> 29\u001b[0;31m             \u001b[0;32mraise\u001b[0m \u001b[0mValueError\u001b[0m\u001b[0;34m(\u001b[0m\u001b[0;34mf\"{key} column not found: {val}\"\u001b[0m\u001b[0;34m)\u001b[0m\u001b[0;34m\u001b[0m\u001b[0;34m\u001b[0m\u001b[0m\n\u001b[0m\u001b[1;32m     30\u001b[0m \u001b[0;34m\u001b[0m\u001b[0m\n\u001b[1;32m     31\u001b[0m \u001b[0;34m\u001b[0m\u001b[0m\n",
      "\u001b[0;31mValueError\u001b[0m: time column not found: hours"
     ]
    }
   ],
   "source": [
    "epf.check_epochs(epochs_df, ['channel0', 'channel1'], epoch_id=\"epoch_id\", time=\"hours\")"
   ]
  }
 ],
 "metadata": {
  "celltoolbar": "Tags",
  "kernelspec": {
   "display_name": "Python 3",
   "language": "python",
   "name": "python3"
  },
  "language_info": {
   "codemirror_mode": {
    "name": "ipython",
    "version": 3
   },
   "file_extension": ".py",
   "mimetype": "text/x-python",
   "name": "python",
   "nbconvert_exporter": "python",
   "pygments_lexer": "ipython3",
   "version": "3.6.10"
  }
 },
 "nbformat": 4,
 "nbformat_minor": 2
}
